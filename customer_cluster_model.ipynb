{
 "cells": [
  {
   "cell_type": "markdown",
   "source": [
    "# Overview Description\n",
    "this file is the final file to create a regression model to observe the relationship between customer behavior and their profitability. after merging the result of clustering and features data, we are going to implement the StandardScaler to Normalize the values of features to avoid the features domination of model. then, the logistic regression would be the estimator for recursive feature elimination to select the most important features from the model. At last, the regression model with the best features would be run again to show the coefficient of features and confusion matrix to observe the misclassification rate."
   ],
   "metadata": {
    "collapsed": false
   }
  },
  {
   "cell_type": "code",
   "execution_count": 11,
   "metadata": {
    "collapsed": true
   },
   "outputs": [],
   "source": [
    "import pandas as pd\n",
    "cluster_result = pd.read_csv(r\"C:\\Users\\joech\\OneDrive\\workspace\\HKTV OpenDataBank\\RFM_project\\official_draft\\dataset\\cluster_result.csv\", index_col = 0)\n",
    "input_features = pd.read_csv(r\"C:\\Users\\joech\\OneDrive\\workspace\\HKTV OpenDataBank\\RFM_project\\official_draft\\dataset\\membership_level_aggregation.csv\", index_col = 0)\n",
    "dataset = cluster_result.merge(\n",
    "    input_features,\n",
    "    how=\"left\",\n",
    "    left_index = True,\n",
    "    right_index = True\n",
    ")\n",
    "dataset.rename({\"0\":\"is_profitable\"}, inplace=True, axis=1)"
   ]
  },
  {
   "cell_type": "code",
   "execution_count": 12,
   "outputs": [],
   "source": [
    "target_dataset = dataset.copy()\n",
    "target_dataset.drop(['total_order_value', 'order_number_count', \"app_type_LITE\", \"app_type_MAIN\", \"items_purchased\"], inplace=True, axis=1)\n",
    "# since the RFM score is made from total order value and order number count, therefore, we are going to elimilate the columns"
   ],
   "metadata": {
    "collapsed": false
   }
  },
  {
   "cell_type": "code",
   "execution_count": 13,
   "outputs": [],
   "source": [
    "from sklearn.preprocessing import StandardScaler\n",
    "from sklearn.feature_selection import RFE\n",
    "from sklearn.linear_model import LogisticRegression\n",
    "from sklearn.metrics import confusion_matrix\n",
    "import numpy as np\n",
    "\n",
    "ss=StandardScaler()\n",
    "features = ss.fit_transform(X=target_dataset.drop(\"is_profitable\", axis=1))\n",
    "target = target_dataset.is_profitable"
   ],
   "metadata": {
    "collapsed": false
   }
  },
  {
   "cell_type": "code",
   "execution_count": 14,
   "outputs": [
    {
     "data": {
      "text/plain": "                                                        0\nprim_cat_variety                                -2.874463\nsub_cat_4_variety                                0.310319\nprimary_category_name_en_Mother & Baby           0.359407\ntotal_package_weight                             0.366072\norder_date_weekdays_Wed                          0.454174\nprimary_category_name_en_Housewares              0.533115\nprimary_category_name_en_Personal Care & Health  0.614956\nitems_under_promotion                            0.663664\nsales_application_Web                            2.827818\nsales_application_WebMobile                      3.585540",
      "text/html": "<div>\n<style scoped>\n    .dataframe tbody tr th:only-of-type {\n        vertical-align: middle;\n    }\n\n    .dataframe tbody tr th {\n        vertical-align: top;\n    }\n\n    .dataframe thead th {\n        text-align: right;\n    }\n</style>\n<table border=\"1\" class=\"dataframe\">\n  <thead>\n    <tr style=\"text-align: right;\">\n      <th></th>\n      <th>0</th>\n    </tr>\n  </thead>\n  <tbody>\n    <tr>\n      <th>prim_cat_variety</th>\n      <td>-2.874463</td>\n    </tr>\n    <tr>\n      <th>sub_cat_4_variety</th>\n      <td>0.310319</td>\n    </tr>\n    <tr>\n      <th>primary_category_name_en_Mother &amp; Baby</th>\n      <td>0.359407</td>\n    </tr>\n    <tr>\n      <th>total_package_weight</th>\n      <td>0.366072</td>\n    </tr>\n    <tr>\n      <th>order_date_weekdays_Wed</th>\n      <td>0.454174</td>\n    </tr>\n    <tr>\n      <th>primary_category_name_en_Housewares</th>\n      <td>0.533115</td>\n    </tr>\n    <tr>\n      <th>primary_category_name_en_Personal Care &amp; Health</th>\n      <td>0.614956</td>\n    </tr>\n    <tr>\n      <th>items_under_promotion</th>\n      <td>0.663664</td>\n    </tr>\n    <tr>\n      <th>sales_application_Web</th>\n      <td>2.827818</td>\n    </tr>\n    <tr>\n      <th>sales_application_WebMobile</th>\n      <td>3.585540</td>\n    </tr>\n  </tbody>\n</table>\n</div>"
     },
     "execution_count": 14,
     "metadata": {},
     "output_type": "execute_result"
    }
   ],
   "source": [
    "estimator = LogisticRegression(random_state=0, penalty = \"l1\", solver = \"liblinear\")\n",
    "best = RFE(estimator, n_features_to_select=10, step=0.05).fit(features, target)\n",
    "columns = target_dataset.drop(\"is_profitable\", axis=1).columns[best.support_]\n",
    "model = LogisticRegression(random_state = 0, penalty=\"l1\", solver = \"liblinear\").fit(features[:,best.support_], target) #the lasso regression would be performed because I want it drop the columns to\n",
    "pd.DataFrame(model.coef_, columns=columns).T.sort_values(by=0)"
   ],
   "metadata": {
    "collapsed": false
   }
  },
  {
   "cell_type": "code",
   "execution_count": 15,
   "outputs": [
    {
     "data": {
      "text/plain": "array([[9348,  442],\n       [1284, 1023]], dtype=int64)"
     },
     "execution_count": 15,
     "metadata": {},
     "output_type": "execute_result"
    }
   ],
   "source": [
    "predict = model.predict(features[:,best.support_])\n",
    "confusion_matrix(target, predict)"
   ],
   "metadata": {
    "collapsed": false
   }
  },
  {
   "cell_type": "markdown",
   "source": [],
   "metadata": {
    "collapsed": false
   }
  }
 ],
 "metadata": {
  "kernelspec": {
   "display_name": "Python 3",
   "language": "python",
   "name": "python3"
  },
  "language_info": {
   "codemirror_mode": {
    "name": "ipython",
    "version": 2
   },
   "file_extension": ".py",
   "mimetype": "text/x-python",
   "name": "python",
   "nbconvert_exporter": "python",
   "pygments_lexer": "ipython2",
   "version": "2.7.6"
  }
 },
 "nbformat": 4,
 "nbformat_minor": 0
}
