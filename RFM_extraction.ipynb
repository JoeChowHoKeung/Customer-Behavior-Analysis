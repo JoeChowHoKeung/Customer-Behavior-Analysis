{
 "cells": [
  {
   "cell_type": "code",
   "execution_count": 12,
   "metadata": {
    "collapsed": true
   },
   "outputs": [
    {
     "name": "stderr",
     "output_type": "stream",
     "text": [
      "1880it [02:06, 14.85it/s]\n"
     ]
    }
   ],
   "source": [
    "import pandas as pd\n",
    "import tqdm\n",
    "path = r\"C:\\Users\\joech\\OneDrive\\workspace\\HKTV OpenDataBank\\RFM_project\\official_draft\\dataset\\Q1_raw.csv\"\n",
    "RFM_col = [\"hktv_ad_id\", \"order_number\", \"order_date\", \"order_value\"]\n",
    "df_set = pd.read_csv(path,chunksize=10000)\n",
    "dataset = pd.concat([df[RFM_col] for df in tqdm.tqdm(df_set)])\n",
    "rfm_data = pd.DataFrame()"
   ]
  },
  {
   "cell_type": "code",
   "execution_count": 19,
   "outputs": [
    {
     "name": "stderr",
     "output_type": "stream",
     "text": [
      "18795935it [13:04, 23954.25it/s]\n"
     ]
    }
   ],
   "source": [
    "import datetime\n",
    "observe_date = datetime.datetime(2022, 4, 1)\n",
    "def transfer_date(val):\n",
    "    if str(val) == \"nan\" or str(val) == \"NaT\": return \"\"\n",
    "    if type(val) == pd.Timestamp: return val\n",
    "    date = datetime.datetime.strptime(val, \"%Y-%m-%d\")\n",
    "    return (date - observe_date).days\n",
    "\n",
    "for row in tqdm.tqdm(dataset.iterrows()):\n",
    "    row[1]['order_date'] = transfer_date(row[1].order_date)"
   ],
   "metadata": {
    "collapsed": false
   }
  },
  {
   "cell_type": "code",
   "execution_count": 20,
   "outputs": [],
   "source": [
    "group = dataset.groupby(\"hktv_ad_id\")\n",
    "rfm_data['f']=group.order_number.nunique()\n",
    "rfm_data['r']=group.order_date.max()\n",
    "rfm_data['m']=group.order_value.sum()"
   ],
   "metadata": {
    "collapsed": false
   }
  },
  {
   "cell_type": "code",
   "execution_count": 22,
   "outputs": [],
   "source": [
    "rfm_data.to_csv(r\"C:\\Users\\joech\\OneDrive\\workspace\\HKTV OpenDataBank\\RFM_project\\official_draft\\dataset\\rfm_data.csv\")\n"
   ],
   "metadata": {
    "collapsed": false
   }
  }
 ],
 "metadata": {
  "kernelspec": {
   "display_name": "Python 3",
   "language": "python",
   "name": "python3"
  },
  "language_info": {
   "codemirror_mode": {
    "name": "ipython",
    "version": 2
   },
   "file_extension": ".py",
   "mimetype": "text/x-python",
   "name": "python",
   "nbconvert_exporter": "python",
   "pygments_lexer": "ipython2",
   "version": "2.7.6"
  }
 },
 "nbformat": 4,
 "nbformat_minor": 0
}
