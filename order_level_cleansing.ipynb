{
 "cells": [
  {
   "cell_type": "code",
   "execution_count": 2,
   "outputs": [],
   "source": [
    "def data_cleansing(dataset):\n",
    "    order_level_dataset = pd.DataFrame()\n",
    "    group_col = dataset[\n",
    "        [\"order_number\",\n",
    "        \"store_level_promotion_code\",\n",
    "        \"mall_level_promotion_code\",\n",
    "        \"gift_promotion_id\"]\n",
    "    ] # convert the promotion materials to True/False value then take a summation to represent the frequency of using promotion materials\n",
    "    order_level_dataset['enjoyed_promotion'] = group_col.groupby(\"order_number\").nunique().sum(axis=1)\n",
    "    dataset.loc[:, \"package_volume\"] = dataset[\n",
    "        [\"height\", \"width\", \"length\", \"quantity\"]\n",
    "    ].product(axis=1) # convert the package size of product to volume\n",
    "    dataset.loc[:, \"total_weight\"] = dataset[\n",
    "        [\"weight\", \"quantity\"]\n",
    "    ].product(axis=1) # calculate the package total weight\n",
    "    group_col = dataset[[\"order_number\", \"package_volume\", \"total_weight\"]]\n",
    "    order_level_dataset[[\"total_package_volume\", \"total_package_weight\"]] = group_col.groupby(\"order_number\").sum()\n",
    "\n",
    "    dummies_col = [\n",
    "        \"primary_category_name_en\",\n",
    "        \"sub_cat_1_name_en\",\n",
    "        \"delivery_information_en\",\n",
    "        \"packing_box_type\",\n",
    "        \"storage_type\"\n",
    "    ] # those are the target column to be dummy\n",
    "\n",
    "    for col in tqdm.tqdm(dummies_col):\n",
    "        dummy_df = pd.concat(\n",
    "            [\n",
    "                dataset.order_number,\n",
    "                pd.get_dummies(dataset[col],prefix=col, dummy_na=True)\n",
    "            ],axis=1\n",
    "        )\n",
    "        order_level_dataset = order_level_dataset.merge(\n",
    "            dummy_df.groupby('order_number').sum(),\n",
    "            left_index=True, right_index=True\n",
    "        )\n",
    "\n",
    "    group = dataset.groupby(\"order_number\")\n",
    "    order_level_dataset[\"items_purchased\"] = group.primary_sku_id.nunique()\n",
    "    order_level_dataset[\"prim_cat_variety\"] = group.primary_category_name_en.nunique()\n",
    "    order_level_dataset['sub_cat_1_variety'] = group.sub_cat_1_name_en.nunique()\n",
    "    order_level_dataset['sub_cat_2_variety'] = group.sub_cat_2_name_en.nunique()\n",
    "    order_level_dataset['sub_cat_3_variety'] = group.sub_cat_3_name_en.nunique()\n",
    "    order_level_dataset['sub_cat_4_variety'] = group.sub_cat_4_name_en.nunique() # calculate the customer how vary on purchasing different categories\n",
    "    order_level_dataset['items_under_promotion'] = group.sku_level_promotion_code.nunique() # different from the promotion material which is the event level promotion, the items under promotion is a sku level promotion\n",
    "    order_level_dataset['production_region_variety'] = group.manufacturer_country_en.nunique()\n",
    "    return order_level_dataset.reset_index()"
   ],
   "metadata": {
    "collapsed": false
   }
  },
  {
   "cell_type": "code",
   "execution_count": 7,
   "outputs": [
    {
     "name": "stdout",
     "output_type": "stream",
     "text": [
      "<class 'pandas.core.frame.DataFrame'>\n",
      "RangeIndex: 5760858 entries, 0 to 5760857\n",
      "Data columns (total 26 columns):\n",
      " #   Column                            Dtype  \n",
      "---  ------                            -----  \n",
      " 0   hktv_ad_id                        object \n",
      " 1   membership_level                  object \n",
      " 2   order_number                      object \n",
      " 3   additional_parent_order           object \n",
      " 4   order_date                        object \n",
      " 5   order_time_range                  object \n",
      " 6   delivery_date                     object \n",
      " 7   delivery_timeslot                 object \n",
      " 8   app_type                          object \n",
      " 9   device_type                       object \n",
      " 10  sales_application                 object \n",
      " 11  payment_gateway                   object \n",
      " 12  area                              object \n",
      " 13  district                          object \n",
      " 14  housing_type                      object \n",
      " 15  order_value                       float64\n",
      " 16  total_discounts                   float64\n",
      " 17  credit_applied                    float64\n",
      " 18  cash_voucher_code                 object \n",
      " 19  paid_voucher_code                 object \n",
      " 20  free_delivery_voucher             object \n",
      " 21  order_mall_level_promotion_codes  object \n",
      " 22  order_redemption_promotion_codes  float64\n",
      " 23  bundle_set                        object \n",
      " 24  total_price                       float64\n",
      " 25  loyalty_point_rate                int64  \n",
      "dtypes: float64(5), int64(1), object(20)\n",
      "memory usage: 1.1+ GB\n"
     ]
    }
   ],
   "source": [
    "import pandas as pd\n",
    "import tqdm\n",
    "raw_data = r\"C:\\Users\\joech\\OneDrive\\workspace\\HKTV OpenDataBank\\RFM_project\\official_draft\\dataset\\01_raw.csv\"\n",
    "lots_data = pd.read_csv(raw_data, low_memory = False, chunksize = 100000)\n",
    "target_columns = [\n",
    "    \"primary_sku_id\",\n",
    "    \"primary_category_name_en\",\n",
    "    \"sub_cat_1_name_en\",\n",
    "    \"sub_cat_2_name_en\",\n",
    "    \"sub_cat_3_name_en\",\n",
    "    \"sub_cat_4_name_en\",\n",
    "    \"sku_level_promotion_code\",\n",
    "    \"store_level_promotion_code\",\n",
    "    \"mall_level_promotion_code\",\n",
    "    \"gift_promotion_id\",\n",
    "    \"delivery_information_en\",\n",
    "    \"packing_box_type\",\n",
    "    \"storage_type\",\n",
    "    \"weight\",\n",
    "    \"height\",\n",
    "    \"width\",\n",
    "    \"length\",\n",
    "    \"quantity\",\n",
    "    \"manufacturer_country_en\"\n",
    "]\n",
    "dataset = pd.concat(\n",
    "    [df.drop(target_columns, axis=1) for df in lots_data]\n",
    ")\n",
    "dataset.info()"
   ],
   "metadata": {
    "collapsed": false
   }
  },
  {
   "cell_type": "code",
   "execution_count": null,
   "outputs": [],
   "source": [
    "data.to_csv(r\"C:\\Users\\joech\\OneDrive\\workspace\\HKTV OpenDataBank\\RFM_project\\official_draft\\dataset\\order_level_aggregation.csv\")\n"
   ],
   "metadata": {
    "collapsed": false
   }
  }
 ],
 "metadata": {
  "kernelspec": {
   "display_name": "Python 3",
   "language": "python",
   "name": "python3"
  },
  "language_info": {
   "codemirror_mode": {
    "name": "ipython",
    "version": 2
   },
   "file_extension": ".py",
   "mimetype": "text/x-python",
   "name": "python",
   "nbconvert_exporter": "python",
   "pygments_lexer": "ipython2",
   "version": "2.7.6"
  }
 },
 "nbformat": 4,
 "nbformat_minor": 0
}
